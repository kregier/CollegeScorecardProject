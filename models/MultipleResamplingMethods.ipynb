{
 "cells": [
  {
   "cell_type": "markdown",
   "metadata": {},
   "source": [
    "# What is this notebook?\n",
    "\n",
    "The point of this notebook is to try the same \"model\" with diffent manipulations of the data, so see which resampling method or dataset gives the best results. The goal of the project is to predict schools that are closed, but there are many more operating schools than closed schools, so the dataset it unbalanced with respect to the target variable.\n",
    "\n",
    "Different resampling techniques are used to try to balance the database, and the best method will be chosen based on the resulting accuracy and recall & precision of the minority (negative) class. Each dataset will first be run through a Decision Tree model, which will then form the basis for an AdaBoost model."
   ]
  },
  {
   "cell_type": "code",
   "execution_count": 1,
   "metadata": {},
   "outputs": [],
   "source": [
    "# Set up the environment\n",
    "import pandas as pd\n",
    "import numpy as np\n",
    "import matplotlib.pyplot as plt\n",
    "import seaborn as sns\n",
    "import time\n",
    "%matplotlib inline"
   ]
  },
  {
   "cell_type": "code",
   "execution_count": 2,
   "metadata": {},
   "outputs": [],
   "source": [
    "from sklearn.tree import DecisionTreeClassifier\n",
    "from sklearn.ensemble import RandomForestClassifier,AdaBoostClassifier\n",
    "from sklearn import metrics\n",
    "from sklearn.model_selection import train_test_split\n",
    "from sklearn.utils import resample"
   ]
  },
  {
   "cell_type": "code",
   "execution_count": 3,
   "metadata": {},
   "outputs": [
    {
     "data": {
      "text/html": [
       "<div>\n",
       "<style scoped>\n",
       "    .dataframe tbody tr th:only-of-type {\n",
       "        vertical-align: middle;\n",
       "    }\n",
       "\n",
       "    .dataframe tbody tr th {\n",
       "        vertical-align: top;\n",
       "    }\n",
       "\n",
       "    .dataframe thead th {\n",
       "        text-align: right;\n",
       "    }\n",
       "</style>\n",
       "<table border=\"1\" class=\"dataframe\">\n",
       "  <thead>\n",
       "    <tr style=\"text-align: right;\">\n",
       "      <th></th>\n",
       "      <th>OPEID</th>\n",
       "      <th>INSTNM</th>\n",
       "      <th>NUMBRANCH</th>\n",
       "      <th>PREDDEG</th>\n",
       "      <th>CONTROL</th>\n",
       "      <th>UGDS</th>\n",
       "      <th>CURROPER</th>\n",
       "      <th>TUITFTE</th>\n",
       "      <th>INEXPFTE</th>\n",
       "      <th>PFTFAC</th>\n",
       "      <th>UG25abv</th>\n",
       "      <th>COMP_ORIG_YR4_RT</th>\n",
       "      <th>WDRAW_ORIG_YR4_RT</th>\n",
       "      <th>ENRL_ORIG_YR4_RT</th>\n",
       "      <th>DEBT_MDN</th>\n",
       "      <th>Year</th>\n",
       "      <th>Cost</th>\n",
       "      <th>PREDDEG_N</th>\n",
       "      <th>Governance</th>\n",
       "      <th>RetentionFT</th>\n",
       "    </tr>\n",
       "  </thead>\n",
       "  <tbody>\n",
       "    <tr>\n",
       "      <th>897</th>\n",
       "      <td>00104706</td>\n",
       "      <td>troy university-atlantic region</td>\n",
       "      <td>8</td>\n",
       "      <td>0</td>\n",
       "      <td>1</td>\n",
       "      <td>986.0</td>\n",
       "      <td>False</td>\n",
       "      <td>2090.5</td>\n",
       "      <td>4392.5</td>\n",
       "      <td>0.2481</td>\n",
       "      <td>0.4245</td>\n",
       "      <td>0.171947</td>\n",
       "      <td>0.346515</td>\n",
       "      <td>0.128031</td>\n",
       "      <td>14750.0</td>\n",
       "      <td>2010</td>\n",
       "      <td>19036.5</td>\n",
       "      <td>Not classified</td>\n",
       "      <td>Public</td>\n",
       "      <td>0.52400</td>\n",
       "    </tr>\n",
       "    <tr>\n",
       "      <th>898</th>\n",
       "      <td>00104720</td>\n",
       "      <td>troy university-western region</td>\n",
       "      <td>8</td>\n",
       "      <td>0</td>\n",
       "      <td>1</td>\n",
       "      <td>986.0</td>\n",
       "      <td>False</td>\n",
       "      <td>2090.5</td>\n",
       "      <td>4392.5</td>\n",
       "      <td>0.2481</td>\n",
       "      <td>0.4245</td>\n",
       "      <td>0.171947</td>\n",
       "      <td>0.346515</td>\n",
       "      <td>0.128031</td>\n",
       "      <td>14750.0</td>\n",
       "      <td>2010</td>\n",
       "      <td>19036.5</td>\n",
       "      <td>Not classified</td>\n",
       "      <td>Public</td>\n",
       "      <td>0.52400</td>\n",
       "    </tr>\n",
       "    <tr>\n",
       "      <th>1693</th>\n",
       "      <td>00104720</td>\n",
       "      <td>troy university-western region</td>\n",
       "      <td>7</td>\n",
       "      <td>0</td>\n",
       "      <td>1</td>\n",
       "      <td>986.0</td>\n",
       "      <td>False</td>\n",
       "      <td>2090.5</td>\n",
       "      <td>4392.5</td>\n",
       "      <td>0.2481</td>\n",
       "      <td>0.4245</td>\n",
       "      <td>0.211538</td>\n",
       "      <td>0.324624</td>\n",
       "      <td>0.126254</td>\n",
       "      <td>15829.0</td>\n",
       "      <td>2011</td>\n",
       "      <td>19036.5</td>\n",
       "      <td>Not classified</td>\n",
       "      <td>Public</td>\n",
       "      <td>0.52400</td>\n",
       "    </tr>\n",
       "    <tr>\n",
       "      <th>899</th>\n",
       "      <td>001047A1</td>\n",
       "      <td>troy university-ecampus</td>\n",
       "      <td>8</td>\n",
       "      <td>0</td>\n",
       "      <td>1</td>\n",
       "      <td>986.0</td>\n",
       "      <td>False</td>\n",
       "      <td>2090.5</td>\n",
       "      <td>4392.5</td>\n",
       "      <td>0.2481</td>\n",
       "      <td>0.4245</td>\n",
       "      <td>0.171947</td>\n",
       "      <td>0.346515</td>\n",
       "      <td>0.128031</td>\n",
       "      <td>14750.0</td>\n",
       "      <td>2010</td>\n",
       "      <td>19036.5</td>\n",
       "      <td>Not classified</td>\n",
       "      <td>Public</td>\n",
       "      <td>0.52400</td>\n",
       "    </tr>\n",
       "    <tr>\n",
       "      <th>3</th>\n",
       "      <td>00107000</td>\n",
       "      <td>thunderbird school of global management</td>\n",
       "      <td>1</td>\n",
       "      <td>1</td>\n",
       "      <td>2</td>\n",
       "      <td>2.0</td>\n",
       "      <td>False</td>\n",
       "      <td>49859.0</td>\n",
       "      <td>33004.0</td>\n",
       "      <td>0.6301</td>\n",
       "      <td>0.5258</td>\n",
       "      <td>0.604934</td>\n",
       "      <td>0.000000</td>\n",
       "      <td>0.000000</td>\n",
       "      <td>9500.0</td>\n",
       "      <td>2010</td>\n",
       "      <td>19623.0</td>\n",
       "      <td>Certificate</td>\n",
       "      <td>Private nonprofit</td>\n",
       "      <td>0.74085</td>\n",
       "    </tr>\n",
       "  </tbody>\n",
       "</table>\n",
       "</div>"
      ],
      "text/plain": [
       "         OPEID                                   INSTNM  NUMBRANCH  PREDDEG  \\\n",
       "897   00104706          troy university-atlantic region          8        0   \n",
       "898   00104720           troy university-western region          8        0   \n",
       "1693  00104720           troy university-western region          7        0   \n",
       "899   001047A1                  troy university-ecampus          8        0   \n",
       "3     00107000  thunderbird school of global management          1        1   \n",
       "\n",
       "      CONTROL   UGDS  CURROPER  TUITFTE  INEXPFTE  PFTFAC  UG25abv  \\\n",
       "897         1  986.0     False   2090.5    4392.5  0.2481   0.4245   \n",
       "898         1  986.0     False   2090.5    4392.5  0.2481   0.4245   \n",
       "1693        1  986.0     False   2090.5    4392.5  0.2481   0.4245   \n",
       "899         1  986.0     False   2090.5    4392.5  0.2481   0.4245   \n",
       "3           2    2.0     False  49859.0   33004.0  0.6301   0.5258   \n",
       "\n",
       "      COMP_ORIG_YR4_RT  WDRAW_ORIG_YR4_RT  ENRL_ORIG_YR4_RT  DEBT_MDN  Year  \\\n",
       "897           0.171947           0.346515          0.128031   14750.0  2010   \n",
       "898           0.171947           0.346515          0.128031   14750.0  2010   \n",
       "1693          0.211538           0.324624          0.126254   15829.0  2011   \n",
       "899           0.171947           0.346515          0.128031   14750.0  2010   \n",
       "3             0.604934           0.000000          0.000000    9500.0  2010   \n",
       "\n",
       "         Cost       PREDDEG_N         Governance  RetentionFT  \n",
       "897   19036.5  Not classified             Public      0.52400  \n",
       "898   19036.5  Not classified             Public      0.52400  \n",
       "1693  19036.5  Not classified             Public      0.52400  \n",
       "899   19036.5  Not classified             Public      0.52400  \n",
       "3     19623.0     Certificate  Private nonprofit      0.74085  "
      ]
     },
     "execution_count": 3,
     "metadata": {},
     "output_type": "execute_result"
    }
   ],
   "source": [
    "# Upload the original dataset - Subsets will be made off of this original dataframe\n",
    "original = pd.read_csv('../data/processed/DecisionTreeDataFinal.csv', index_col=0)\n",
    "to_drop = ['CITY', 'HIGHDEG', 'ADM_RATE', 'NetPrice', 'region','EnrollmentBins','Complete',\\\n",
    "           'TuitionBins','ExpenditureBins', 'AVGFACSAL', 'RetentionPT', 'PCTFLOAN']\n",
    "original = original.drop(to_drop, axis=1)\n",
    "original.head()"
   ]
  },
  {
   "cell_type": "code",
   "execution_count": 4,
   "metadata": {},
   "outputs": [
    {
     "name": "stdout",
     "output_type": "stream",
     "text": [
      "<class 'pandas.core.frame.DataFrame'>\n",
      "Int64Index: 10200 entries, 897 to 5365\n",
      "Data columns (total 20 columns):\n",
      " #   Column             Non-Null Count  Dtype  \n",
      "---  ------             --------------  -----  \n",
      " 0   OPEID              10200 non-null  object \n",
      " 1   INSTNM             10200 non-null  object \n",
      " 2   NUMBRANCH          10200 non-null  int64  \n",
      " 3   PREDDEG            10200 non-null  int64  \n",
      " 4   CONTROL            10200 non-null  int64  \n",
      " 5   UGDS               10200 non-null  float64\n",
      " 6   CURROPER           10200 non-null  bool   \n",
      " 7   TUITFTE            10200 non-null  float64\n",
      " 8   INEXPFTE           10200 non-null  float64\n",
      " 9   PFTFAC             10200 non-null  float64\n",
      " 10  UG25abv            10200 non-null  float64\n",
      " 11  COMP_ORIG_YR4_RT   10200 non-null  float64\n",
      " 12  WDRAW_ORIG_YR4_RT  10200 non-null  float64\n",
      " 13  ENRL_ORIG_YR4_RT   10200 non-null  float64\n",
      " 14  DEBT_MDN           10200 non-null  float64\n",
      " 15  Year               10200 non-null  int64  \n",
      " 16  Cost               10200 non-null  float64\n",
      " 17  PREDDEG_N          10200 non-null  object \n",
      " 18  Governance         10200 non-null  object \n",
      " 19  RetentionFT        10200 non-null  float64\n",
      "dtypes: bool(1), float64(11), int64(4), object(4)\n",
      "memory usage: 1.6+ MB\n"
     ]
    }
   ],
   "source": [
    "original.info()"
   ]
  },
  {
   "cell_type": "code",
   "execution_count": 5,
   "metadata": {},
   "outputs": [
    {
     "data": {
      "text/plain": [
       "(2759, 20)"
      ]
     },
     "execution_count": 5,
     "metadata": {},
     "output_type": "execute_result"
    }
   ],
   "source": [
    "original_closed = original.loc[original.CURROPER == False]\n",
    "original_closed.shape"
   ]
  },
  {
   "cell_type": "code",
   "execution_count": 6,
   "metadata": {},
   "outputs": [
    {
     "data": {
      "text/plain": [
       "(7441, 20)"
      ]
     },
     "execution_count": 6,
     "metadata": {},
     "output_type": "execute_result"
    }
   ],
   "source": [
    "original_open = original.loc[original.CURROPER==True]\n",
    "original_open.shape"
   ]
  },
  {
   "cell_type": "code",
   "execution_count": 7,
   "metadata": {},
   "outputs": [
    {
     "data": {
      "text/plain": [
       "(7441, 20)"
      ]
     },
     "execution_count": 7,
     "metadata": {},
     "output_type": "execute_result"
    }
   ],
   "source": [
    "current_open = original_open.loc[original_open.Year > 2012]\n",
    "current_open.shape"
   ]
  },
  {
   "cell_type": "code",
   "execution_count": 8,
   "metadata": {},
   "outputs": [
    {
     "name": "stdout",
     "output_type": "stream",
     "text": [
      "Shape: (10200, 20)\n"
     ]
    },
    {
     "data": {
      "text/plain": [
       "True     7441\n",
       "False    2759\n",
       "Name: CURROPER, dtype: int64"
      ]
     },
     "execution_count": 8,
     "metadata": {},
     "output_type": "execute_result"
    }
   ],
   "source": [
    "current = current_open.append(original_closed)\n",
    "print(\"Shape:\" , current.shape)\n",
    "current.CURROPER.value_counts()"
   ]
  },
  {
   "cell_type": "markdown",
   "metadata": {},
   "source": [
    "## Create the new datasets"
   ]
  },
  {
   "cell_type": "code",
   "execution_count": 9,
   "metadata": {},
   "outputs": [
    {
     "name": "stdout",
     "output_type": "stream",
     "text": [
      "Shape:  (12959, 20)\n"
     ]
    },
    {
     "data": {
      "text/plain": [
       "True     7441\n",
       "False    5518\n",
       "Name: CURROPER, dtype: int64"
      ]
     },
     "execution_count": 9,
     "metadata": {},
     "output_type": "execute_result"
    }
   ],
   "source": [
    "# Original dataset, but resample the closed data by simply adding all it again\n",
    "double_closed = current.append(original_closed)\n",
    "print(\"Shape: \", double_closed.shape)\n",
    "double_closed.CURROPER.value_counts()"
   ]
  },
  {
   "cell_type": "code",
   "execution_count": 10,
   "metadata": {},
   "outputs": [
    {
     "name": "stdout",
     "output_type": "stream",
     "text": [
      "Shape:  (12959, 20)\n"
     ]
    },
    {
     "data": {
      "text/plain": [
       "True     7441\n",
       "False    5518\n",
       "Name: CURROPER, dtype: int64"
      ]
     },
     "execution_count": 10,
     "metadata": {},
     "output_type": "execute_result"
    }
   ],
   "source": [
    "# Original dataset, but resample the closed data to be double in number\n",
    "double_upsample = resample(original_closed, replace=True, n_samples=original_closed.shape[0]*2, random_state=123)\n",
    "resample_double = pd.concat([current_open, double_upsample], axis=0)\n",
    "print(\"Shape: \", resample_double.shape)\n",
    "resample_double.CURROPER.value_counts()"
   ]
  },
  {
   "cell_type": "code",
   "execution_count": 11,
   "metadata": {},
   "outputs": [
    {
     "name": "stdout",
     "output_type": "stream",
     "text": [
      "Shape:  (14882, 20)\n"
     ]
    },
    {
     "data": {
      "text/plain": [
       "True     7441\n",
       "False    7441\n",
       "Name: CURROPER, dtype: int64"
      ]
     },
     "execution_count": 11,
     "metadata": {},
     "output_type": "execute_result"
    }
   ],
   "source": [
    "# Original dataset, but resample the closed data to make it the same size as the open class\n",
    "closed_upsample = resample(original_closed, replace=True, n_samples=current_open.shape[0], random_state=123)\n",
    "resample_closed = pd.concat([current_open, closed_upsample], axis=0)\n",
    "print(\"Shape: \", resample_closed.shape)\n",
    "resample_closed.CURROPER.value_counts()"
   ]
  },
  {
   "cell_type": "code",
   "execution_count": 12,
   "metadata": {},
   "outputs": [
    {
     "name": "stdout",
     "output_type": "stream",
     "text": [
      "Shape:  (14882, 20)\n"
     ]
    },
    {
     "data": {
      "text/plain": [
       "True     7441\n",
       "False    3720\n",
       "Name: CURROPER, dtype: int64"
      ]
     },
     "execution_count": 12,
     "metadata": {},
     "output_type": "execute_result"
    }
   ],
   "source": [
    "# Original dataset, but resample the closed data to make it half the size as the open class\n",
    "full_open = current_open.shape[0]\n",
    "half_open = int(full_open / 2)\n",
    "\n",
    "closed_halfsample = resample(original_closed, replace=True, n_samples=half_open, random_state=123)\n",
    "resample_half = pd.concat([current_open, closed_halfsample], axis=0)\n",
    "print(\"Shape: \", resample_closed.shape)\n",
    "resample_half.CURROPER.value_counts()"
   ]
  },
  {
   "cell_type": "code",
   "execution_count": 13,
   "metadata": {},
   "outputs": [
    {
     "name": "stdout",
     "output_type": "stream",
     "text": [
      "Closed bachelors shape:  (241, 20)\n",
      "Current open bachelors shape:  (2101, 20)\n",
      "Shape:  (2342, 20)\n"
     ]
    }
   ],
   "source": [
    "# All closed bachelors schools from original, but only the last year for open bachelors schools\n",
    "all_bach = original.loc[original.PREDDEG==3]\n",
    "closed_bach = all_bach.loc[all_bach.CURROPER == False]\n",
    "print(\"Closed bachelors shape: \", closed_bach.shape)\n",
    "open_bach = all_bach.loc[all_bach.CURROPER == True]\n",
    "current_bach = open_bach.loc[all_bach.Year > 2012]\n",
    "print(\"Current open bachelors shape: \", current_bach.shape)\n",
    "bachelor = pd.concat([closed_bach, current_bach], axis=0)\n",
    "print(\"Shape: \", bachelor.shape)"
   ]
  },
  {
   "cell_type": "code",
   "execution_count": 14,
   "metadata": {},
   "outputs": [
    {
     "name": "stdout",
     "output_type": "stream",
     "text": [
      "Shape:  (4202, 20)\n"
     ]
    },
    {
     "data": {
      "text/plain": [
       "True     2101\n",
       "False    2101\n",
       "Name: CURROPER, dtype: int64"
      ]
     },
     "execution_count": 14,
     "metadata": {},
     "output_type": "execute_result"
    }
   ],
   "source": [
    "# Resample the closed bachelor schools to be roughly equal to the number of open bachelors schools\n",
    "bachelor_upsample = resample(closed_bach, replace=True, n_samples = current_bach.shape[0], random_state=123)\n",
    "bachelor_resample = pd.concat([bachelor_upsample, current_bach], axis=0)\n",
    "print(\"Shape: \", bachelor_resample.shape)\n",
    "bachelor_resample.CURROPER.value_counts()"
   ]
  },
  {
   "cell_type": "code",
   "execution_count": 15,
   "metadata": {},
   "outputs": [],
   "source": [
    "current_dict = {'data':current}\n",
    "double_closed_dict = {'data':double_closed}\n",
    "resample_double = {'data':resample_double}\n",
    "resample_closed_dict = {'data':resample_closed}\n",
    "resample_half_dict = {'data':resample_half}\n",
    "bachelor_dict = {'data':bachelor}\n",
    "bachelor_resample_dict = {'data':bachelor_resample}\n",
    "\n",
    "datasets = {'current':current_dict, 'double_closed':double_closed_dict, 'resample_double':resample_double,\n",
    "            'resample_half':resample_half_dict, 'resample_closed':resample_closed_dict,\n",
    "            'bachelor':bachelor_dict, 'bachelor_resample':bachelor_resample_dict}"
   ]
  },
  {
   "cell_type": "markdown",
   "metadata": {},
   "source": [
    "## Create a pipeline/for loop to process all of the datasets.\n",
    "First define functions to do the different modeling tasks that I want."
   ]
  },
  {
   "cell_type": "code",
   "execution_count": 16,
   "metadata": {},
   "outputs": [],
   "source": [
    "def tree_depth(X_train, X_test, y_train, y_test):\n",
    "    max_depth = []\n",
    "    acc_gini = []\n",
    "    acc_entropy = []\n",
    "    for i in range(1, 31):\n",
    "        gtree = DecisionTreeClassifier(criterion='gini', max_depth=i, random_state=21)\n",
    "        gtree.fit(X_train, y_train)\n",
    "        gpredict = gtree.predict(X_test)\n",
    "        acc_gini.append(metrics.accuracy_score(y_test, gpredict))\n",
    "        ##\n",
    "        etree = DecisionTreeClassifier(criterion='entropy', max_depth=i, random_state=21)\n",
    "        etree.fit(X_train, y_train)\n",
    "        epredict = etree.predict(X_test)\n",
    "        acc_entropy.append(metrics.accuracy_score(y_test, epredict))\n",
    "        ##\n",
    "        max_depth.append(i)\n",
    "        \n",
    "    gini_max = max(acc_gini)\n",
    "    gini_idx = acc_gini.index(gini_max)\n",
    "    entropy_max = max(acc_entropy)\n",
    "    entropy_idx = acc_entropy.index(entropy_max)\n",
    "\n",
    "    if gini_max > entropy_max:\n",
    "        depth = max_depth[gini_idx]\n",
    "        crit = 'gini'\n",
    "    else:\n",
    "        depth = max_depth[entropy_idx]\n",
    "        crit='entropy'\n",
    "    \n",
    "    return depth, crit\n",
    "        "
   ]
  },
  {
   "cell_type": "code",
   "execution_count": 17,
   "metadata": {},
   "outputs": [],
   "source": [
    "def AB_n_estimators(X_train, X_test, y_train, y_test, model):\n",
    "    AB_depth = []\n",
    "    score_b = []\n",
    "\n",
    "    for i in range(105, 131, 1):\n",
    "        btree = AdaBoostClassifier(model, n_estimators=i, random_state=21)\n",
    "        btree.fit(X_train, y_train)\n",
    "        bpredict = btree.predict(X_test)\n",
    "        score_b.append(metrics.accuracy_score(y_test, bpredict))\n",
    "        AB_depth.append(i)\n",
    "        \n",
    "    ideal_estimators = max(score_b)\n",
    "    idx = score_b.index(ideal_estimators)\n",
    "    return AB_depth[idx]"
   ]
  },
  {
   "cell_type": "code",
   "execution_count": 18,
   "metadata": {},
   "outputs": [],
   "source": [
    "for dset in datasets:\n",
    "    # Split into X and y\n",
    "    data = datasets[dset]['data']\n",
    "    y = data['CURROPER']\n",
    "    X = data.drop(['CURROPER', 'OPEID', 'INSTNM', 'Year', 'Governance', 'PREDDEG_N'], axis=1)\n",
    "    # Split into train and test sets\n",
    "    X_train, X_test, y_train, y_test = train_test_split(\n",
    "        X, y, test_size=0.3, random_state=21, stratify=y)\n",
    "    # Cycle through Decision Tree model to get best depth\n",
    "    DTdepth, DTcrit = tree_depth(X_train, X_test, y_train, y_test)\n",
    "    # Train Decision Tree model with best depth\n",
    "    modelDT = DecisionTreeClassifier(criterion=DTcrit, max_depth=DTdepth, random_state=21)\n",
    "    datasets[dset]['dt_model'] = modelDT.fit(X_train, y_train)\n",
    "    datasets[dset]['dt_pred'] = modelDT.predict(X_test)\n",
    "    datasets[dset]['dt_pred_prob'] = modelDT.predict_proba(X_test)\n",
    "    datasets[dset]['y_test'] = y_test\n",
    "    # Record metrics\n",
    "    datasets[dset]['dt_confusion'] = metrics.confusion_matrix(y_test, datasets[dset]['dt_pred'])\n",
    "    datasets[dset]['dt_classification'] = metrics.classification_report(y_test, datasets[dset]['dt_pred'])\n",
    "    \n",
    "    # Cycle through AdaBoost model to get n_estimators\n",
    "    n_est = AB_n_estimators(X_train, X_test, y_train, y_test, modelDT)\n",
    "    # Train AdaBoost model with n_estimators\n",
    "    modelAB = AdaBoostClassifier(modelDT, n_estimators=n_est, random_state=21)\n",
    "    datasets[dset]['ab_model'] = modelAB.fit(X_train, y_train)\n",
    "    datasets[dset]['ab_pred'] = modelAB.predict(X_test)\n",
    "    datasets[dset]['ab_pred_prob'] = modelAB.predict_proba(X_test)\n",
    "    \n",
    "    # Record metrics\n",
    "    datasets[dset]['ab_confusion'] = metrics.confusion_matrix(y_test, datasets[dset]['ab_pred'])\n",
    "    datasets[dset]['ab_classification'] = metrics.classification_report(y_test, datasets[dset]['ab_pred'])"
   ]
  },
  {
   "cell_type": "code",
   "execution_count": 19,
   "metadata": {},
   "outputs": [],
   "source": [
    "AB_accuracy = []\n",
    "AB_no_prec = []\n",
    "AB_no_recall = []\n",
    "for dset in datasets:\n",
    "    acc = metrics.accuracy_score(datasets[dset]['y_test'], datasets[dset]['ab_pred'])\n",
    "    prec = metrics.precision_score(datasets[dset]['y_test'], datasets[dset]['ab_pred'], pos_label = 0)\n",
    "    rec = metrics.recall_score(datasets[dset]['y_test'], datasets[dset]['ab_pred'], pos_label = 0)\n",
    "    AB_accuracy.append(acc)\n",
    "    AB_no_prec.append(prec)\n",
    "    AB_no_recall.append(rec)"
   ]
  },
  {
   "cell_type": "code",
   "execution_count": 20,
   "metadata": {},
   "outputs": [],
   "source": [
    "models = [key for key in datasets.keys()]\n",
    "names=['Current', 'Double','Dbl-Resamp','Half', 'Resample', 'Bachelor', 'B_resamp']"
   ]
  },
  {
   "cell_type": "code",
   "execution_count": 21,
   "metadata": {},
   "outputs": [
    {
     "data": {
      "image/png": "[encoded data removed]",
      "text/plain": [
       "<Figure size 432x288 with 1 Axes>"
      ]
     },
     "metadata": {
      "needs_background": "light"
     },
     "output_type": "display_data"
    }
   ],
   "source": [
    "plt.plot(names, AB_accuracy, label='accuracy')\n",
    "plt.plot(names, AB_no_prec, label='precision')\n",
    "plt.plot(names, AB_no_recall, label = 'recall')\n",
    "plt.ylabel('Score')\n",
    "plt.xlabel('Resampling Dataset')\n",
    "plt.title('Minority class metrics by dataset')\n",
    "plt.legend()\n",
    "#plt.show()\n",
    "plt.savefig('../figures/ResampleMethods.png')"
   ]
  },
  {
   "cell_type": "markdown",
   "metadata": {},
   "source": [
    "### Compare accuracy for double-resample model and resample model"
   ]
  },
  {
   "cell_type": "code",
   "execution_count": 22,
   "metadata": {},
   "outputs": [
    {
     "name": "stdout",
     "output_type": "stream",
     "text": [
      "[0.9735082304526749, 0.9573006867721708, 0.9769316909294513]\n"
     ]
    }
   ],
   "source": [
    "print(AB_accuracy[2:5])#, max(AB_no_prec), max(AB_no_recall))"
   ]
  },
  {
   "cell_type": "code",
   "execution_count": 23,
   "metadata": {},
   "outputs": [
    {
     "name": "stdout",
     "output_type": "stream",
     "text": [
      "[0.9663663663663664, 0.9386834986474302, 0.9675010979358806]\n"
     ]
    }
   ],
   "source": [
    "print(AB_no_prec[2:5])"
   ]
  },
  {
   "cell_type": "code",
   "execution_count": 24,
   "metadata": {},
   "outputs": [
    {
     "name": "stdout",
     "output_type": "stream",
     "text": [
      "[0.9716183574879227, 0.9327956989247311, 0.9870071684587813]\n"
     ]
    }
   ],
   "source": [
    "print(AB_no_recall[2:5])"
   ]
  },
  {
   "cell_type": "markdown",
   "metadata": {},
   "source": [
    "Based on the accuracy, recall and precision for the negative class (the target variable), the 'double-resample' dataset and 'resample' datasets seems to give the best results for the total database (as opposed to just the bachelor's degree granting institutions).\n",
    "\n",
    "The 'double-resample' dataset doubles the number of observations of the minority class via resampling, for a total of 5518 minority class observations.\n",
    "\n",
    "The 'resample' dataset balances the number of observations in each class by resampling the minory class up to the size as the majority class. While this dataset has slightly better metrics in this run of the model, it performed slightly worse in previous runs of the model (before the random_state was seeded). It also manipulates/resamples the data more than the 'double-resample' dataset for a slight gain, mostly in the negative recall.\n",
    "\n",
    "The 'double-resample' method will be used for in the final modeling."
   ]
  }
 ],
 "metadata": {
  "kernelspec": {
   "display_name": "Python 3",
   "language": "python",
   "name": "python3"
  },
  "language_info": {
   "codemirror_mode": {
    "name": "ipython",
    "version": 3
   },
   "file_extension": ".py",
   "mimetype": "text/x-python",
   "name": "python",
   "nbconvert_exporter": "python",
   "pygments_lexer": "ipython3",
   "version": "3.7.7"
  }
 },
 "nbformat": 4,
 "nbformat_minor": 4
}
